{
 "cells": [
  {
   "cell_type": "markdown",
   "id": "a9dd64bb",
   "metadata": {},
   "source": [
    "1. Create events"
   ]
  },
  {
   "cell_type": "code",
   "execution_count": null,
   "id": "99bf5068",
   "metadata": {},
   "outputs": [],
   "source": [
    "events = pd.DataFrame(\n",
    "    {\n",
    "        \"trial_type\": trial_types,\n",
    "        \"onset\": onsets,\n",
    "        \"duration\": durations\n",
    "    }\n",
    ")"
   ]
  },
  {
   "cell_type": "markdown",
   "id": "dd6aa360",
   "metadata": {},
   "source": [
    "2. Make GLM"
   ]
  },
  {
   "cell_type": "code",
   "execution_count": null,
   "id": "13f640ef",
   "metadata": {},
   "outputs": [],
   "source": [
    "# Estimate GLM\n",
    "estimated_glm = FirstLevelModel(\n",
    "    # Basic settings\n",
    "    t_r=self.info['tr'],  # Repetition time in seconds\n",
    "    hrf_model='spm',  # Hemodynamic response function model\n",
    "    slice_time_ref=0.5,  # Reference point for slice timing correction\n",
    "    drift_model='cosine',  # Model for slow signal drifts\n",
    "    drift_order=2,  # Quadratic drift\n",
    "    high_pass=0.01,  # High-pass filter cutoff (Hz)\n",
    "    \n",
    "    # Noise and standardization\n",
    "    noise_model='ar1',  # First-order autoregressive model for noise\n",
    "    standardize=True,  # Normalize voxel time series\n",
    "    signal_scaling=False,  # Scale by mean\n",
    "    \n",
    "    # Masking and smoothing\n",
    "    mask_img=[MASK_FILE],  # Optional mask image\n",
    "    smoothing_fwhm=[SMOOTHING],  # Smoothing kernel (mm)\n",
    "    \n",
    "    # Memory management\n",
    "    memory=[PATH],  # Path for caching intermediate results\n",
    "    memory_level=2,  # Level of caching aggressiveness\n",
    "    minimize_memory=True,  # Use more memory for faster execution\n",
    "    \n",
    "    # Parallel processing\n",
    "    n_jobs=-1 # Use all available CPU cores\n",
    ")\n",
    "\n",
    "# Fit GLM\n",
    "estimated_glm.fit(\n",
    "    [FUNCTINAL_FILE],\n",
    "    events=events,\n",
    "    confounds=[CONFOUNDS_FROM_FMRIPREP])"
   ]
  },
  {
   "cell_type": "markdown",
   "id": "d3827f1b",
   "metadata": {},
   "source": [
    "3. Make contrast of interest"
   ]
  },
  {
   "cell_type": "code",
   "execution_count": null,
   "id": "acb0d5ce",
   "metadata": {},
   "outputs": [],
   "source": [
    "estimated_glm.compute_contrast([CONTRAST_OF_INTEREST], stat_type='t', output_type='z_score')"
   ]
  }
 ],
 "metadata": {
  "language_info": {
   "name": "python"
  }
 },
 "nbformat": 4,
 "nbformat_minor": 5
}
